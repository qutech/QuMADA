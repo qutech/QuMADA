{
 "cells": [
  {
   "cell_type": "markdown",
   "metadata": {},
   "source": [
    "# QuMADA tutorial "
   ]
  },
  {
   "cell_type": "markdown",
   "metadata": {},
   "source": [
    "## Enter Metadata and handle metadata"
   ]
  },
  {
   "cell_type": "markdown",
   "metadata": {},
   "source": [
    "### Situation\n",
    "\n",
    "We got a new device, we want to do a measurement on. These are the steps to enter the metadata\n",
    "\n",
    "1. Authenticate to the Metadatabase\n",
    "2. Add the device to the Metadatabase\n",
    "3. Create metadata for the measurement\n",
    "4. Setup the measurement\n",
    "5. Run the measurement\n",
    "\n",
    "**Remarks:**\n",
    "\n",
    "- During steps 4 and 5, more metadata is gathered with QuMADA."
   ]
  },
  {
   "cell_type": "markdown",
   "metadata": {},
   "source": [
    "# Authenticate to the Metadatabase"
   ]
  },
  {
   "cell_type": "code",
   "execution_count": null,
   "metadata": {},
   "outputs": [],
   "source": [
    "from qtools_metadata.db import DBConnection\n",
    "connection = DBConnection()\n",
    "connection.set_as_default()\n",
    "connection.authenticate()"
   ]
  },
  {
   "cell_type": "code",
   "execution_count": null,
   "metadata": {},
   "outputs": [],
   "source": [
    "connection.token.access_token"
   ]
  },
  {
   "cell_type": "markdown",
   "metadata": {},
   "source": [
    "### Add device to Metadatabase\n",
    "\n",
    "Here, we create new metadata for the device, incorporate existing layouts, factories, etc. and save the metadata to the DB.\n",
    "\n",
    "We can use either the Web UI or create and save the metadata in code."
   ]
  },
  {
   "cell_type": "code",
   "execution_count": null,
   "metadata": {},
   "outputs": [],
   "source": [
    "from qtools_metadata.device import Device\n",
    "\n",
    "# Create or load Device using the Web UI\n",
    "# device = Device.create_with_webui()\n",
    "device = Device.load_with_webui()\n",
    "device"
   ]
  },
  {
   "cell_type": "markdown",
   "metadata": {},
   "source": [
    "Alternative ways to load or create Metadata:"
   ]
  },
  {
   "cell_type": "code",
   "execution_count": null,
   "metadata": {},
   "outputs": [],
   "source": [
    "device = Device(\n",
    "    name = \"my_device\",\n",
    "    description = \"this is only a testdevice\",\n",
    ")\n",
    "\n",
    "device.save()   # Save as new object to DB\n",
    "device.update() # Update object on DB"
   ]
  },
  {
   "cell_type": "code",
   "execution_count": null,
   "metadata": {},
   "outputs": [],
   "source": [
    "device = Device.get_by_id(10)\n",
    "device"
   ]
  },
  {
   "cell_type": "markdown",
   "metadata": {},
   "source": [
    "### Create metadata for the measurement\n",
    "\n",
    "To create a complete Metadata set for a measurement, the same functions are used."
   ]
  },
  {
   "cell_type": "code",
   "execution_count": null,
   "metadata": {},
   "outputs": [],
   "source": [
    "from qtools_metadata.measurement import Measurement\n",
    "from qtools_metadata.metadata import Metadata\n",
    "\n",
    "measurement = Measurement.load_with_webui()\n",
    "metadata = Metadata(measurement=measurement)"
   ]
  },
  {
   "cell_type": "code",
   "execution_count": null,
   "metadata": {
    "scrolled": true
   },
   "outputs": [],
   "source": [
    "measurement"
   ]
  },
  {
   "cell_type": "markdown",
   "metadata": {},
   "source": [
    "### Setup the measurement"
   ]
  },
  {
   "cell_type": "code",
   "execution_count": null,
   "metadata": {},
   "outputs": [],
   "source": [
    "import threading\n",
    "\n",
    "import yaml\n",
    "from qcodes.station import Station\n",
    "\n",
    "from qumada.instrument.buffered_instruments import BufferedDummyDMM as DummyDmm\n",
    "from qumada.instrument.buffers.buffer import map_buffers\n",
    "from qumada.instrument.custom_drivers.Dummies.dummy_dac import DummyDac\n",
    "from qumada.instrument.mapping import DUMMY_DMM_MAPPING, add_mapping_to_instrument, map_terminals_gui\n",
    "from qumada.instrument.mapping.Dummies.DummyDac import DummyDacMapping\n",
    "from qumada.measurement.scripts import (\n",
    "    Generic_1D_parallel_asymm_Sweep,\n",
    "    Generic_1D_parallel_Sweep,\n",
    "    Generic_1D_Sweep,\n",
    "    Generic_1D_Sweep_buffered,\n",
    "    Generic_nD_Sweep,\n",
    "    Timetrace,\n",
    ")\n",
    "from qumada.utils.generate_sweeps import generate_sweep, replace_parameter_settings\n",
    "from qumada.utils.GUI import open_web_gui\n",
    "from qumada.utils.load_from_sqlite_db import load_db, pick_measurement\n",
    "from qumada.utils.ramp_parameter import *\n",
    "\n",
    "trigger = threading.Event()\n",
    "\n",
    "# Setup qcodes station\n",
    "station = Station()\n"
   ]
  },
  {
   "cell_type": "code",
   "execution_count": null,
   "metadata": {},
   "outputs": [],
   "source": [
    "# The dummy instruments have a trigger_event attribute as replacement for\n",
    "# the trigger inputs of real instruments.\n",
    "\n",
    "dmm = DummyDmm(\"dmm\", trigger_event=trigger)\n",
    "add_mapping_to_instrument(dmm, path=DUMMY_DMM_MAPPING)\n",
    "station.add_component(dmm)\n",
    "\n",
    "dac = DummyDac(\"dac\", trigger_event=trigger)\n",
    "add_mapping_to_instrument(dac, mapping=DummyDacMapping())\n",
    "station.add_component(dac)"
   ]
  },
  {
   "cell_type": "code",
   "execution_count": null,
   "metadata": {},
   "outputs": [],
   "source": [
    "load_db()"
   ]
  },
  {
   "cell_type": "code",
   "execution_count": null,
   "metadata": {},
   "outputs": [],
   "source": [
    "# Setup measurement\n",
    "buffer_settings = {\n",
    "    # \"trigger_threshold\": 0.005,\n",
    "    # \"trigger_mode\": \"digital\",\n",
    "    \"sampling_rate\": 10,\n",
    "    \"duration\": 5,\n",
    "    \"burst_duration\": 5,\n",
    "    \"delay\": 0,\n",
    "}\n",
    "\n",
    "parameters = {\n",
    "    \"dmm\": {\"voltage\": {\"type\": \"gettable\"}},\n",
    "    \"dac\": {\n",
    "        \"voltage\": {\n",
    "            \"type\": \"dynamic\",\n",
    "            \"setpoints\": [0, 5],\n",
    "        }\n",
    "    },\n",
    "}"
   ]
  },
  {
   "cell_type": "code",
   "execution_count": null,
   "metadata": {},
   "outputs": [],
   "source": [
    "script = Generic_1D_Sweep_buffered()\n",
    "script.setup(\n",
    "    parameters,\n",
    "    metadata,\n",
    "    buffer_settings=buffer_settings,\n",
    "    trigger_type=\"hardware\",\n",
    "    trigger_start=trigger.set,\n",
    "    trigger_reset=trigger.clear,\n",
    ")"
   ]
  },
  {
   "cell_type": "code",
   "execution_count": null,
   "metadata": {},
   "outputs": [],
   "source": [
    "map_terminals_gui(station.components, script.gate_parameters, metadata=metadata)\n",
    "map_buffers(station.components, script.properties, script.gate_parameters)"
   ]
  },
  {
   "cell_type": "markdown",
   "metadata": {},
   "source": [
    "### Run the measurement\n",
    "\n",
    "Metadata is saved automatically to the DB."
   ]
  },
  {
   "cell_type": "code",
   "execution_count": null,
   "metadata": {},
   "outputs": [],
   "source": [
    "# Run measurement\n",
    "script.run(insert_metadata_into_db=True)"
   ]
  },
  {
   "cell_type": "markdown",
   "metadata": {},
   "source": [
    "### Access Measurements metadata"
   ]
  },
  {
   "cell_type": "code",
   "execution_count": null,
   "metadata": {},
   "outputs": [],
   "source": [
    "from qtools_metadata.measurement import Measurement\n",
    "measurements = [meas for meas in Measurement.get_all() if meas.user == \"dg\" and meas.measurement_type and meas.measurement_type.name == \"1D Pinchoff\"]\n",
    "datasets = [meas.measurement_data for meas in measurements if meas.measurement_data]\n",
    "datasets"
   ]
  },
  {
   "cell_type": "code",
   "execution_count": null,
   "metadata": {},
   "outputs": [],
   "source": [
    "Measurement.load_with_webui()"
   ]
  }
 ],
 "metadata": {
  "kernelspec": {
   "display_name": "Python 3 (ipykernel)",
   "language": "python",
   "name": "python3"
  },
  "language_info": {
   "codemirror_mode": {
    "name": "ipython",
    "version": 3
   },
   "file_extension": ".py",
   "mimetype": "text/x-python",
   "name": "python",
   "nbconvert_exporter": "python",
   "pygments_lexer": "ipython3",
   "version": "3.11.0"
  },
  "vscode": {
   "interpreter": {
    "hash": "3d62f097c6426db79933631857d272b2d378491596086f7638fdd8c163fc898b"
   }
  }
 },
 "nbformat": 4,
 "nbformat_minor": 4
}
